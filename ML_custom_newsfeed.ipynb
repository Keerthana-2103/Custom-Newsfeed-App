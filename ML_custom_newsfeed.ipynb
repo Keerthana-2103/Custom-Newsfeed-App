{
 "cells": [
  {
   "cell_type": "code",
   "execution_count": 1,
   "metadata": {},
   "outputs": [],
   "source": [
    "import numpy as np\n",
    "import pandas as pd\n",
    "import requests\n",
    "import json\n",
    "import os"
   ]
  },
  {
   "cell_type": "code",
   "execution_count": 2,
   "metadata": {},
   "outputs": [],
   "source": [
    "pd.set_option('display.max_colwidth', 200)\n",
    "\n",
    "# Get Pocket API Key:\n",
    "def get_API_KEY(pocket_API_key):\n",
    "    currentDirectory = os.getcwd()\n",
    "    path_to_API_KEY = currentDirectory + '/' + pocket_API_key\n",
    "    API_KEY_file = open(path_to_API_KEY)\n",
    "    \n",
    "    API_KEY = []\n",
    "    for i in API_KEY_file:\n",
    "        API_KEY.append(i)\n",
    "    \n",
    "    return str(API_KEY[0])"
   ]
  },
  {
   "cell_type": "code",
   "execution_count": 3,
   "metadata": {},
   "outputs": [
    {
     "name": "stdout",
     "output_type": "stream",
     "text": [
      "99576-943e9c4f0a5f79654333741c\n"
     ]
    }
   ],
   "source": [
    "pocket_API_key = get_API_KEY('pocket_API_key.txt')\n",
    "print(pocket_API_key)"
   ]
  },
  {
   "cell_type": "code",
   "execution_count": 6,
   "metadata": {},
   "outputs": [],
   "source": [
    "# Get Redirect URL from text file:\n",
    "def get_REDIRECT_URL(TwitterAccount):\n",
    "    currentDirectory = os.getcwd()\n",
    "    RURL_path = currentDirectory + '/' + TwitterAccount\n",
    "    URL_file = open(RURL_path)\n",
    "    \n",
    "    RedirectURL = []\n",
    "    for i in URL_file:\n",
    "        RedirectURL.append(i)\n",
    "    \n",
    "    return str(RedirectURL[0])"
   ]
  },
  {
   "cell_type": "code",
   "execution_count": 7,
   "metadata": {},
   "outputs": [
    {
     "name": "stdout",
     "output_type": "stream",
     "text": [
      "https://twitter.com/Keerthanavtp21\n"
     ]
    }
   ],
   "source": [
    "Redirect_URL_key = get_REDIRECT_URL('TwitterAccount.txt')\n",
    "print(Redirect_URL_key)"
   ]
  },
  {
   "cell_type": "code",
   "execution_count": 8,
   "metadata": {},
   "outputs": [
    {
     "name": "stdout",
     "output_type": "stream",
     "text": [
      "Access code is: \n",
      "code=23fa0cfe-6256-cad7-54a7-52e957\n"
     ]
    }
   ],
   "source": [
    "# Authentication Parameters:\n",
    "auth_params = {'consumer_key': pocket_API_key, 'redirect_uri': Redirect_URL_key}\n",
    "\n",
    "token = requests.post('https://getpocket.com/v3/oauth/request', data = auth_params)\n",
    "\n",
    "print('Access code is: ')\n",
    "print(token.text)"
   ]
  },
  {
   "cell_type": "code",
   "execution_count": 9,
   "metadata": {},
   "outputs": [
    {
     "name": "stdout",
     "output_type": "stream",
     "text": [
      "Copy the following link and authorise: \n",
      "https://getpocket.com/auth/authorize?request_token=23fa0cfe-6256-cad7-54a7-52e957&redirect_uri=https%3A//witter.com/Keerthanavtp21\n"
     ]
    }
   ],
   "source": [
    "# Generate the new output link:\n",
    "auth_Link = 'https://getpocket.com/auth/authorize?request_token=' + token.text.strip('code=') + '&redirect_uri=https%3A//' + Redirect_URL_key.strip('https://')\n",
    "\n",
    "print('Copy the following link and authorise: ')\n",
    "print(auth_Link)"
   ]
  },
  {
   "cell_type": "code",
   "execution_count": 10,
   "metadata": {},
   "outputs": [
    {
     "name": "stdout",
     "output_type": "stream",
     "text": [
      "User code is: \n",
      "access_token=a58d2f2e-1332-12cd-1f07-485149&username=keerthanavtp21%40gmail.com\n"
     ]
    }
   ],
   "source": [
    "# Parsing out the access vode from token.text string;\n",
    "access_code = token.text.split('=')[1]\n",
    "\n",
    "user_params = {'consumer_key': pocket_API_key, 'code': access_code}\n",
    "\n",
    "user = requests.post('https://getpocket.com/v3/oauth/authorize', data = user_params)\n",
    "\n",
    "print('User code is: ')\n",
    "print(user.text)"
   ]
  },
  {
   "cell_type": "code",
   "execution_count": 11,
   "metadata": {},
   "outputs": [
    {
     "data": {
      "text/plain": [
       "'a58d2f2e-1332-12cd-1f07-485149'"
      ]
     },
     "execution_count": 11,
     "metadata": {},
     "output_type": "execute_result"
    }
   ],
   "source": [
    "# Parsing out the access token from the 'user.text' string:\n",
    "access_token = user.text.split('=')[1].split('&username')[0]\n",
    "\n",
    "access_token"
   ]
  },
  {
   "cell_type": "code",
   "execution_count": 12,
   "metadata": {},
   "outputs": [
    {
     "data": {
      "text/plain": [
       "'{\"status\":1,\"complete\":1,\"list\":{\"2318007777\":{\"item_id\":\"2318007777\",\"resolved_id\":\"2318007777\",\"given_url\":\"https:\\\\/\\\\/hub.packtpub.com\\\\/build-a-custom-news-feed-with-python-tutorial\\\\/\",\"given_title\":\"Build a custom news feed with Python [Tutorial] | Packt Hub\",\"favorite\":\"0\",\"status\":\"0\",\"time_added\":\"1639483281\",\"time_updated\":\"1639493199\",\"time_read\":\"0\",\"time_favorited\":\"0\",\"sort_id\":0,\"resolved_title\":\"Build a custom news feed with Python [Tutorial]\",\"resolved_url\":\"https:\\\\/\\\\/hub.packtpub.com\\\\/build-a-custom-news-feed-with-python-tutorial\\\\/\",\"excerpt\":\"To create a model a custom news feed, we need data which can be trained. This training data will be fed into a model in order to teach it to discriminate between the articles that we\\\\u2019d be interested in and the ones that we would not. This article is an excerpt from a book written by Alexander T.\",\"is_article\":\"1\",\"is_index\":\"0\",\"has_video\":\"0\",\"has_image\":\"1\",\"word_count\":\"2372\",\"lang\":\"en\",\"time_to_read\":11,\"amp_url\":\"https:\\\\/\\\\/hub.packtpub.com\\\\/build-a-custom-news-feed-with-python-tutorial\\\\/amp\\\\/\",\"top_image_url\":\"https:\\\\/\\\\/hub.packtpub.com\\\\/wp-content\\\\/uploads\\\\/2018\\\\/08\\\\/Facebook-patents-news-feed-filter-tool.jpg\",\"listen_duration_estimate\":918},\"3477656805\":{\"item_id\":\"3477656805\",\"resolved_id\":\"3477656805\",\"given_url\":\"http:\\\\/\\\\/theverge.com\\\\/22769156\\\\/iphone-13-pro-vs-pixel-6-pro-camera-comparison-photos\",\"given_title\":\"\",\"favorite\":\"0\",\"status\":\"0\",\"time_added\":\"1637212724\",\"time_updated\":\"1637214053\",\"time_read\":\"0\",\"time_favorited\":\"0\",\"sort_id\":1,\"resolved_title\":\"iPhone 13 Pro vs. Pixel 6 Pro: what 2,000 photos tell us\",\"resolved_url\":\"https:\\\\/\\\\/www.theverge.com\\\\/22769156\\\\/iphone-13-pro-vs-pixel-6-pro-camera-comparison-photos\",\"excerpt\":\"When the iPhone 13 Pro launched earlier this fall, we said it had the \\\\u201cbest camera\\\\u201d in a smartphone. The larger sensor behind the main wide-angle lens coupled with a wider f\\\\/1.5 aperture left us saying, \\\\u201cWhoa, look at this photo,\\\\u201d more often than we were used to.\",\"is_article\":\"1\",\"is_index\":\"0\",\"has_video\":\"1\",\"has_image\":\"1\",\"word_count\":\"268\",\"lang\":\"en\",\"amp_url\":\"https:\\\\/\\\\/www.theverge.com\\\\/platform\\\\/amp\\\\/22769156\\\\/iphone-13-pro-vs-pixel-6-pro-camera-comparison-photos\",\"top_image_url\":\"https:\\\\/\\\\/cdn.vox-cdn.com\\\\/thumbor\\\\/a6Ul1m9k68_J7Zko-07D4KJyiXU=\\\\/0x146:2040x1214\\\\/fit-in\\\\/1200x630\\\\/cdn.vox-cdn.com\\\\/uploads\\\\/chorus_asset\\\\/file\\\\/23002030\\\\/BFARSACE_FULLFRAME_01.jpg\",\"domain_metadata\":{\"name\":\"The Verge\",\"logo\":\"https:\\\\/\\\\/logo.clearbit.com\\\\/theverge.com?size=800\",\"greyscale_logo\":\"https:\\\\/\\\\/logo.clearbit.com\\\\/theverge.com?size=800&greyscale=true\"},\"listen_duration_estimate\":104},\"3479233044\":{\"item_id\":\"3479233044\",\"resolved_id\":\"3479233044\",\"given_url\":\"http:\\\\/\\\\/cnet.com\\\\/personal-finance\\\\/crypto\\\\/cryptocurrency-faces-a-quantum-computing-problem\",\"given_title\":\"\",\"favorite\":\"0\",\"status\":\"0\",\"time_added\":\"1637212719\",\"time_updated\":\"1637214054\",\"time_read\":\"0\",\"time_favorited\":\"0\",\"sort_id\":2,\"resolved_title\":\"Cryptocurrency faces a quantum computing problem\",\"resolved_url\":\"https:\\\\/\\\\/www.cnet.com\\\\/personal-finance\\\\/crypto\\\\/cryptocurrency-faces-a-quantum-computing-problem\\\\/\",\"excerpt\":\"Cryptocurrencies hold the potential to change finance, eliminating middlemen and bringing accounts to millions of unbanked people around the world. Quantum computers could upend the way pharmaceuticals and materials are designed by bringing their extraordinary power to the process.\",\"is_article\":\"1\",\"is_index\":\"0\",\"has_video\":\"0\",\"has_image\":\"0\",\"word_count\":\"1033\",\"lang\":\"en\",\"time_to_read\":5,\"amp_url\":\"https:\\\\/\\\\/www.cnet.com\\\\/google-amp\\\\/news\\\\/cryptocurrency-faces-a-quantum-computing-problem\\\\/\",\"top_image_url\":\"https:\\\\/\\\\/www.cnet.com\\\\/a\\\\/img\\\\/1lWTl30wZQWCtkBL8ntdaeOL_3Y=\\\\/1200x630\\\\/2019\\\\/06\\\\/26\\\\/aacb986d-8cf9-463a-a396-7484b6f583c8\\\\/20180405-ibm-q-quantum-computer-04.jpg\",\"domain_metadata\":{\"name\":\"CNET\",\"logo\":\"https:\\\\/\\\\/logo.clearbit.com\\\\/cnet.com?size=800\",\"greyscale_logo\":\"https:\\\\/\\\\/logo.clearbit.com\\\\/cnet.com?size=800&greyscale=true\"},\"listen_duration_estimate\":400},\"3436268881\":{\"item_id\":\"3436268881\",\"resolved_id\":\"3436268881\",\"given_url\":\"http:\\\\/\\\\/statnews.com\\\\/2021\\\\/09\\\\/20\\\\/winter-is-coming-again-what-to-expect-from-covid-19-as-the-season-looms\",\"given_title\":\"\",\"favorite\":\"0\",\"status\":\"0\",\"time_added\":\"1637212566\",\"time_updated\":\"1639493217\",\"time_read\":\"0\",\"time_favorited\":\"0\",\"sort_id\":3,\"resolved_title\":\"Winter is coming, again: What to expect from Covid-19 as the season looms\",\"resolved_url\":\"https:\\\\/\\\\/www.statnews.com\\\\/2021\\\\/09\\\\/20\\\\/winter-is-coming-again-what-to-expect-from-covid-19-as-the-season-looms\\\\/\",\"excerpt\":\"Winter is coming, again. A year ago, experts warned that the United States faced a grim winter if Americans didn\\\\u2019t mask up and social distance to slow transmission of the SARS-CoV-2 virus before \\\\u201cindoor weather\\\\u201d \\\\u2014 aka winter \\\\u2014 settled in for its long stay.\",\"is_article\":\"1\",\"is_index\":\"0\",\"has_video\":\"0\",\"has_image\":\"0\",\"word_count\":\"2343\",\"lang\":\"en\",\"time_to_read\":11,\"top_image_url\":\"https:\\\\/\\\\/www.statnews.com\\\\/wp-content\\\\/uploads\\\\/2021\\\\/09\\\\/CovidWinter2.0_Illustration_MollyFerguson_091621-1024x576.jpg\",\"listen_duration_estimate\":907},\"3470445970\":{\"item_id\":\"3470445970\",\"resolved_id\":\"3470445970\",\"given_url\":\"http:\\\\/\\\\/entrepreneur.com\\\\/article\\\\/394235\",\"given_title\":\"\",\"favorite\":\"0\",\"status\":\"0\",\"time_added\":\"1637212497\",\"time_updated\":\"1639493228\",\"time_read\":\"0\",\"time_favorited\":\"0\",\"sort_id\":4,\"resolved_title\":\"When This 22-Year-Old Graduated From MIT, He Thought He\\'d Be a Software Engineer. Instead, He Launched a Company That\\'s Shaking Up the College-Admissions Game.\",\"resolved_url\":\"https:\\\\/\\\\/www.entrepreneur.com\\\\/article\\\\/394235\",\"excerpt\":\"For decades now, the competition for spots at prestigious U.S. colleges has been fierce, and the odds are not in most applicants\\\\u2019 favor: In 2014, The New York Times reported that elite colleges reject up to 95% of the applications they receive.\",\"is_article\":\"1\",\"is_index\":\"0\",\"has_video\":\"0\",\"has_image\":\"1\",\"word_count\":\"1297\",\"lang\":\"en\",\"time_to_read\":6,\"top_image_url\":\"https:\\\\/\\\\/assets.entrepreneur.com\\\\/content\\\\/3x2\\\\/2000\\\\/1635521380-headshot-2.jpg\",\"domain_metadata\":{\"name\":\"Entrepreneur\",\"logo\":\"https:\\\\/\\\\/logo.clearbit.com\\\\/entrepreneur.com?size=800\",\"greyscale_logo\":\"https:\\\\/\\\\/logo.clearbit.com\\\\/entrepreneur.com?size=800&greyscale=true\"},\"listen_duration_estimate\":502},\"3483097386\":{\"item_id\":\"3483097386\",\"resolved_id\":\"3483097386\",\"given_url\":\"http:\\\\/\\\\/theguardian.com\\\\/commentisfree\\\\/2021\\\\/nov\\\\/17\\\\/harvard-university-students-smart-iq\",\"given_title\":\"\",\"favorite\":\"0\",\"status\":\"0\",\"time_added\":\"1637212440\",\"time_updated\":\"1639493242\",\"time_read\":\"0\",\"time_favorited\":\"0\",\"sort_id\":5,\"resolved_title\":\"Turns out, Harvard students aren\\\\u2019t that smart after all\",\"resolved_url\":\"https:\\\\/\\\\/www.theguardian.com\\\\/commentisfree\\\\/2021\\\\/nov\\\\/17\\\\/harvard-university-students-smart-iq\",\"excerpt\":\"Ever wondered what it takes to get into Harvard? Stellar grades, impressive extracurriculars and based on a recently published study, having deep pockets and a parent who either works or went there.\",\"is_article\":\"1\",\"is_index\":\"0\",\"has_video\":\"0\",\"has_image\":\"1\",\"word_count\":\"687\",\"lang\":\"en\",\"time_to_read\":3,\"amp_url\":\"https:\\\\/\\\\/amp.theguardian.com\\\\/commentisfree\\\\/2021\\\\/nov\\\\/17\\\\/harvard-university-students-smart-iq\",\"top_image_url\":\"https:\\\\/\\\\/i.guim.co.uk\\\\/img\\\\/media\\\\/c642423a776e59f3b007a1ab9895f29d6a1eb05f\\\\/0_317_4500_2702\\\\/master\\\\/4500.jpg?width=1200&height=630&quality=85&auto=format&fit=crop&overlay-align=bottom%2Cleft&overlay-width=100p&overlay-base64=L2ltZy9zdGF0aWMvb3ZlcmxheXMvdGctb3BpbmlvbnMucG5n&enable=upscale&s=fe89843b1dd8d16b5bf588b105aa6299\",\"domain_metadata\":{\"name\":\"The Guardian\",\"logo\":\"https:\\\\/\\\\/logo.clearbit.com\\\\/theguardian.com?size=800\",\"greyscale_logo\":\"https:\\\\/\\\\/logo.clearbit.com\\\\/theguardian.com?size=800&greyscale=true\"},\"listen_duration_estimate\":266}},\"error\":null,\"search_meta\":{\"search_type\":\"normal\"},\"since\":1639751802}'"
      ]
     },
     "execution_count": 12,
     "metadata": {},
     "output_type": "execute_result"
    }
   ],
   "source": [
    "no_articles_params = {'consumer_key': pocket_API_key, 'access_token': access_token, 'tag': 'n'}\n",
    "\n",
    "no_articles_result = requests.post('https://getpocket.com/v3/get', data = no_articles_params)\n",
    "\n",
    "no_articles_result.text"
   ]
  },
  {
   "cell_type": "code",
   "execution_count": 13,
   "metadata": {},
   "outputs": [],
   "source": [
    "no_articles_jf = json.loads(no_articles_result.text)\n",
    "no_articles_jd = no_articles_jf['list']"
   ]
  },
  {
   "cell_type": "code",
   "execution_count": 14,
   "metadata": {},
   "outputs": [
    {
     "data": {
      "text/plain": [
       "{'2318007777': {'item_id': '2318007777',\n",
       "  'resolved_id': '2318007777',\n",
       "  'given_url': 'https://hub.packtpub.com/build-a-custom-news-feed-with-python-tutorial/',\n",
       "  'given_title': 'Build a custom news feed with Python [Tutorial] | Packt Hub',\n",
       "  'favorite': '0',\n",
       "  'status': '0',\n",
       "  'time_added': '1639483281',\n",
       "  'time_updated': '1639493199',\n",
       "  'time_read': '0',\n",
       "  'time_favorited': '0',\n",
       "  'sort_id': 0,\n",
       "  'resolved_title': 'Build a custom news feed with Python [Tutorial]',\n",
       "  'resolved_url': 'https://hub.packtpub.com/build-a-custom-news-feed-with-python-tutorial/',\n",
       "  'excerpt': 'To create a model a custom news feed, we need data which can be trained. This training data will be fed into a model in order to teach it to discriminate between the articles that we’d be interested in and the ones that we would not. This article is an excerpt from a book written by Alexander T.',\n",
       "  'is_article': '1',\n",
       "  'is_index': '0',\n",
       "  'has_video': '0',\n",
       "  'has_image': '1',\n",
       "  'word_count': '2372',\n",
       "  'lang': 'en',\n",
       "  'time_to_read': 11,\n",
       "  'amp_url': 'https://hub.packtpub.com/build-a-custom-news-feed-with-python-tutorial/amp/',\n",
       "  'top_image_url': 'https://hub.packtpub.com/wp-content/uploads/2018/08/Facebook-patents-news-feed-filter-tool.jpg',\n",
       "  'listen_duration_estimate': 918},\n",
       " '3477656805': {'item_id': '3477656805',\n",
       "  'resolved_id': '3477656805',\n",
       "  'given_url': 'http://theverge.com/22769156/iphone-13-pro-vs-pixel-6-pro-camera-comparison-photos',\n",
       "  'given_title': '',\n",
       "  'favorite': '0',\n",
       "  'status': '0',\n",
       "  'time_added': '1637212724',\n",
       "  'time_updated': '1637214053',\n",
       "  'time_read': '0',\n",
       "  'time_favorited': '0',\n",
       "  'sort_id': 1,\n",
       "  'resolved_title': 'iPhone 13 Pro vs. Pixel 6 Pro: what 2,000 photos tell us',\n",
       "  'resolved_url': 'https://www.theverge.com/22769156/iphone-13-pro-vs-pixel-6-pro-camera-comparison-photos',\n",
       "  'excerpt': 'When the iPhone 13 Pro launched earlier this fall, we said it had the “best camera” in a smartphone. The larger sensor behind the main wide-angle lens coupled with a wider f/1.5 aperture left us saying, “Whoa, look at this photo,” more often than we were used to.',\n",
       "  'is_article': '1',\n",
       "  'is_index': '0',\n",
       "  'has_video': '1',\n",
       "  'has_image': '1',\n",
       "  'word_count': '268',\n",
       "  'lang': 'en',\n",
       "  'amp_url': 'https://www.theverge.com/platform/amp/22769156/iphone-13-pro-vs-pixel-6-pro-camera-comparison-photos',\n",
       "  'top_image_url': 'https://cdn.vox-cdn.com/thumbor/a6Ul1m9k68_J7Zko-07D4KJyiXU=/0x146:2040x1214/fit-in/1200x630/cdn.vox-cdn.com/uploads/chorus_asset/file/23002030/BFARSACE_FULLFRAME_01.jpg',\n",
       "  'domain_metadata': {'name': 'The Verge',\n",
       "   'logo': 'https://logo.clearbit.com/theverge.com?size=800',\n",
       "   'greyscale_logo': 'https://logo.clearbit.com/theverge.com?size=800&greyscale=true'},\n",
       "  'listen_duration_estimate': 104},\n",
       " '3479233044': {'item_id': '3479233044',\n",
       "  'resolved_id': '3479233044',\n",
       "  'given_url': 'http://cnet.com/personal-finance/crypto/cryptocurrency-faces-a-quantum-computing-problem',\n",
       "  'given_title': '',\n",
       "  'favorite': '0',\n",
       "  'status': '0',\n",
       "  'time_added': '1637212719',\n",
       "  'time_updated': '1637214054',\n",
       "  'time_read': '0',\n",
       "  'time_favorited': '0',\n",
       "  'sort_id': 2,\n",
       "  'resolved_title': 'Cryptocurrency faces a quantum computing problem',\n",
       "  'resolved_url': 'https://www.cnet.com/personal-finance/crypto/cryptocurrency-faces-a-quantum-computing-problem/',\n",
       "  'excerpt': 'Cryptocurrencies hold the potential to change finance, eliminating middlemen and bringing accounts to millions of unbanked people around the world. Quantum computers could upend the way pharmaceuticals and materials are designed by bringing their extraordinary power to the process.',\n",
       "  'is_article': '1',\n",
       "  'is_index': '0',\n",
       "  'has_video': '0',\n",
       "  'has_image': '0',\n",
       "  'word_count': '1033',\n",
       "  'lang': 'en',\n",
       "  'time_to_read': 5,\n",
       "  'amp_url': 'https://www.cnet.com/google-amp/news/cryptocurrency-faces-a-quantum-computing-problem/',\n",
       "  'top_image_url': 'https://www.cnet.com/a/img/1lWTl30wZQWCtkBL8ntdaeOL_3Y=/1200x630/2019/06/26/aacb986d-8cf9-463a-a396-7484b6f583c8/20180405-ibm-q-quantum-computer-04.jpg',\n",
       "  'domain_metadata': {'name': 'CNET',\n",
       "   'logo': 'https://logo.clearbit.com/cnet.com?size=800',\n",
       "   'greyscale_logo': 'https://logo.clearbit.com/cnet.com?size=800&greyscale=true'},\n",
       "  'listen_duration_estimate': 400},\n",
       " '3436268881': {'item_id': '3436268881',\n",
       "  'resolved_id': '3436268881',\n",
       "  'given_url': 'http://statnews.com/2021/09/20/winter-is-coming-again-what-to-expect-from-covid-19-as-the-season-looms',\n",
       "  'given_title': '',\n",
       "  'favorite': '0',\n",
       "  'status': '0',\n",
       "  'time_added': '1637212566',\n",
       "  'time_updated': '1639493217',\n",
       "  'time_read': '0',\n",
       "  'time_favorited': '0',\n",
       "  'sort_id': 3,\n",
       "  'resolved_title': 'Winter is coming, again: What to expect from Covid-19 as the season looms',\n",
       "  'resolved_url': 'https://www.statnews.com/2021/09/20/winter-is-coming-again-what-to-expect-from-covid-19-as-the-season-looms/',\n",
       "  'excerpt': 'Winter is coming, again. A year ago, experts warned that the United States faced a grim winter if Americans didn’t mask up and social distance to slow transmission of the SARS-CoV-2 virus before “indoor weather” — aka winter — settled in for its long stay.',\n",
       "  'is_article': '1',\n",
       "  'is_index': '0',\n",
       "  'has_video': '0',\n",
       "  'has_image': '0',\n",
       "  'word_count': '2343',\n",
       "  'lang': 'en',\n",
       "  'time_to_read': 11,\n",
       "  'top_image_url': 'https://www.statnews.com/wp-content/uploads/2021/09/CovidWinter2.0_Illustration_MollyFerguson_091621-1024x576.jpg',\n",
       "  'listen_duration_estimate': 907},\n",
       " '3470445970': {'item_id': '3470445970',\n",
       "  'resolved_id': '3470445970',\n",
       "  'given_url': 'http://entrepreneur.com/article/394235',\n",
       "  'given_title': '',\n",
       "  'favorite': '0',\n",
       "  'status': '0',\n",
       "  'time_added': '1637212497',\n",
       "  'time_updated': '1639493228',\n",
       "  'time_read': '0',\n",
       "  'time_favorited': '0',\n",
       "  'sort_id': 4,\n",
       "  'resolved_title': \"When This 22-Year-Old Graduated From MIT, He Thought He'd Be a Software Engineer. Instead, He Launched a Company That's Shaking Up the College-Admissions Game.\",\n",
       "  'resolved_url': 'https://www.entrepreneur.com/article/394235',\n",
       "  'excerpt': 'For decades now, the competition for spots at prestigious U.S. colleges has been fierce, and the odds are not in most applicants’ favor: In 2014, The New York Times reported that elite colleges reject up to 95% of the applications they receive.',\n",
       "  'is_article': '1',\n",
       "  'is_index': '0',\n",
       "  'has_video': '0',\n",
       "  'has_image': '1',\n",
       "  'word_count': '1297',\n",
       "  'lang': 'en',\n",
       "  'time_to_read': 6,\n",
       "  'top_image_url': 'https://assets.entrepreneur.com/content/3x2/2000/1635521380-headshot-2.jpg',\n",
       "  'domain_metadata': {'name': 'Entrepreneur',\n",
       "   'logo': 'https://logo.clearbit.com/entrepreneur.com?size=800',\n",
       "   'greyscale_logo': 'https://logo.clearbit.com/entrepreneur.com?size=800&greyscale=true'},\n",
       "  'listen_duration_estimate': 502},\n",
       " '3483097386': {'item_id': '3483097386',\n",
       "  'resolved_id': '3483097386',\n",
       "  'given_url': 'http://theguardian.com/commentisfree/2021/nov/17/harvard-university-students-smart-iq',\n",
       "  'given_title': '',\n",
       "  'favorite': '0',\n",
       "  'status': '0',\n",
       "  'time_added': '1637212440',\n",
       "  'time_updated': '1639493242',\n",
       "  'time_read': '0',\n",
       "  'time_favorited': '0',\n",
       "  'sort_id': 5,\n",
       "  'resolved_title': 'Turns out, Harvard students aren’t that smart after all',\n",
       "  'resolved_url': 'https://www.theguardian.com/commentisfree/2021/nov/17/harvard-university-students-smart-iq',\n",
       "  'excerpt': 'Ever wondered what it takes to get into Harvard? Stellar grades, impressive extracurriculars and based on a recently published study, having deep pockets and a parent who either works or went there.',\n",
       "  'is_article': '1',\n",
       "  'is_index': '0',\n",
       "  'has_video': '0',\n",
       "  'has_image': '1',\n",
       "  'word_count': '687',\n",
       "  'lang': 'en',\n",
       "  'time_to_read': 3,\n",
       "  'amp_url': 'https://amp.theguardian.com/commentisfree/2021/nov/17/harvard-university-students-smart-iq',\n",
       "  'top_image_url': 'https://i.guim.co.uk/img/media/c642423a776e59f3b007a1ab9895f29d6a1eb05f/0_317_4500_2702/master/4500.jpg?width=1200&height=630&quality=85&auto=format&fit=crop&overlay-align=bottom%2Cleft&overlay-width=100p&overlay-base64=L2ltZy9zdGF0aWMvb3ZlcmxheXMvdGctb3BpbmlvbnMucG5n&enable=upscale&s=fe89843b1dd8d16b5bf588b105aa6299',\n",
       "  'domain_metadata': {'name': 'The Guardian',\n",
       "   'logo': 'https://logo.clearbit.com/theguardian.com?size=800',\n",
       "   'greyscale_logo': 'https://logo.clearbit.com/theguardian.com?size=800&greyscale=true'},\n",
       "  'listen_duration_estimate': 266}}"
      ]
     },
     "execution_count": 14,
     "metadata": {},
     "output_type": "execute_result"
    }
   ],
   "source": [
    "# Inspect:\n",
    "no_articles_jd"
   ]
  },
  {
   "cell_type": "code",
   "execution_count": 16,
   "metadata": {},
   "outputs": [
    {
     "data": {
      "text/plain": [
       "['https://hub.packtpub.com/build-a-custom-news-feed-with-python-tutorial/',\n",
       " 'https://www.theverge.com/22769156/iphone-13-pro-vs-pixel-6-pro-camera-comparison-photos',\n",
       " 'https://www.cnet.com/personal-finance/crypto/cryptocurrency-faces-a-quantum-computing-problem/',\n",
       " 'https://www.statnews.com/2021/09/20/winter-is-coming-again-what-to-expect-from-covid-19-as-the-season-looms/',\n",
       " 'https://www.entrepreneur.com/article/394235',\n",
       " 'https://www.theguardian.com/commentisfree/2021/nov/17/harvard-university-students-smart-iq']"
      ]
     },
     "execution_count": 16,
     "metadata": {},
     "output_type": "execute_result"
    }
   ],
   "source": [
    "no_articles_URL = []\n",
    "for i in no_articles_jd.values():\n",
    "    url_dat = i.get('resolved_url')\n",
    "    no_articles_URL.append(url_dat)\n",
    "\n",
    "no_articles_URL  \n"
   ]
  },
  {
   "cell_type": "code",
   "execution_count": 17,
   "metadata": {},
   "outputs": [
    {
     "data": {
      "text/html": [
       "<div>\n",
       "<style scoped>\n",
       "    .dataframe tbody tr th:only-of-type {\n",
       "        vertical-align: middle;\n",
       "    }\n",
       "\n",
       "    .dataframe tbody tr th {\n",
       "        vertical-align: top;\n",
       "    }\n",
       "\n",
       "    .dataframe thead th {\n",
       "        text-align: right;\n",
       "    }\n",
       "</style>\n",
       "<table border=\"1\" class=\"dataframe\">\n",
       "  <thead>\n",
       "    <tr style=\"text-align: right;\">\n",
       "      <th></th>\n",
       "      <th>urls</th>\n",
       "      <th>wanted</th>\n",
       "    </tr>\n",
       "  </thead>\n",
       "  <tbody>\n",
       "    <tr>\n",
       "      <th>0</th>\n",
       "      <td>https://hub.packtpub.com/build-a-custom-news-feed-with-python-tutorial/</td>\n",
       "      <td>n</td>\n",
       "    </tr>\n",
       "    <tr>\n",
       "      <th>1</th>\n",
       "      <td>https://www.theverge.com/22769156/iphone-13-pro-vs-pixel-6-pro-camera-comparison-photos</td>\n",
       "      <td>n</td>\n",
       "    </tr>\n",
       "    <tr>\n",
       "      <th>2</th>\n",
       "      <td>https://www.cnet.com/personal-finance/crypto/cryptocurrency-faces-a-quantum-computing-problem/</td>\n",
       "      <td>n</td>\n",
       "    </tr>\n",
       "    <tr>\n",
       "      <th>3</th>\n",
       "      <td>https://www.statnews.com/2021/09/20/winter-is-coming-again-what-to-expect-from-covid-19-as-the-season-looms/</td>\n",
       "      <td>n</td>\n",
       "    </tr>\n",
       "    <tr>\n",
       "      <th>4</th>\n",
       "      <td>https://www.entrepreneur.com/article/394235</td>\n",
       "      <td>n</td>\n",
       "    </tr>\n",
       "    <tr>\n",
       "      <th>5</th>\n",
       "      <td>https://www.theguardian.com/commentisfree/2021/nov/17/harvard-university-students-smart-iq</td>\n",
       "      <td>n</td>\n",
       "    </tr>\n",
       "  </tbody>\n",
       "</table>\n",
       "</div>"
      ],
      "text/plain": [
       "                                                                                                           urls  \\\n",
       "0                                       https://hub.packtpub.com/build-a-custom-news-feed-with-python-tutorial/   \n",
       "1                       https://www.theverge.com/22769156/iphone-13-pro-vs-pixel-6-pro-camera-comparison-photos   \n",
       "2                https://www.cnet.com/personal-finance/crypto/cryptocurrency-faces-a-quantum-computing-problem/   \n",
       "3  https://www.statnews.com/2021/09/20/winter-is-coming-again-what-to-expect-from-covid-19-as-the-season-looms/   \n",
       "4                                                                   https://www.entrepreneur.com/article/394235   \n",
       "5                    https://www.theguardian.com/commentisfree/2021/nov/17/harvard-university-students-smart-iq   \n",
       "\n",
       "  wanted  \n",
       "0      n  \n",
       "1      n  \n",
       "2      n  \n",
       "3      n  \n",
       "4      n  \n",
       "5      n  "
      ]
     },
     "execution_count": 17,
     "metadata": {},
     "output_type": "execute_result"
    }
   ],
   "source": [
    "no_URL_df = pd.DataFrame(no_articles_URL, columns = ['urls'])\n",
    "\n",
    "# Create new column called 'wanted':\n",
    "no_URL_df = no_URL_df.assign(wanted = lambda x: 'n')\n",
    "\n",
    "no_URL_df"
   ]
  },
  {
   "cell_type": "code",
   "execution_count": 18,
   "metadata": {},
   "outputs": [],
   "source": [
    "def get_articles(tag, pocket_API_key, access_token):\n",
    "    '''\n",
    "    Func -> Extract article data.\n",
    "    \n",
    "    params for this func.:\n",
    "    tag = 'y' or 'n'\n",
    "    '''\n",
    "    articles_params = {'consumer_key': pocket_API_key, 'access_token': access_token, 'tag': tag}\n",
    "    articles_result = requests.post('https://getpocket.com/v3/get', data = articles_params)\n",
    "    articles_jf = json.loads(articles_result.text)\n",
    "    articles_jd = articles_jf['list']\n",
    "    \n",
    "    articles_URL = []\n",
    "    for i in articles_jd.values():\n",
    "        url_dat = i.get('resolved_url')\n",
    "        articles_URL.append(url_dat)\n",
    "        \n",
    "    URL_df = pd.DataFrame(articles_URL, columns = ['urls'])\n",
    "    URL_df = URL_df.assign(wanted = lambda x: tag)\n",
    "    \n",
    "    return URL_df"
   ]
  },
  {
   "cell_type": "code",
   "execution_count": 19,
   "metadata": {},
   "outputs": [],
   "source": [
    "yes_URL_df = get_articles('y', pocket_API_key, access_token)"
   ]
  },
  {
   "cell_type": "code",
   "execution_count": 20,
   "metadata": {},
   "outputs": [
    {
     "data": {
      "text/html": [
       "<div>\n",
       "<style scoped>\n",
       "    .dataframe tbody tr th:only-of-type {\n",
       "        vertical-align: middle;\n",
       "    }\n",
       "\n",
       "    .dataframe tbody tr th {\n",
       "        vertical-align: top;\n",
       "    }\n",
       "\n",
       "    .dataframe thead th {\n",
       "        text-align: right;\n",
       "    }\n",
       "</style>\n",
       "<table border=\"1\" class=\"dataframe\">\n",
       "  <thead>\n",
       "    <tr style=\"text-align: right;\">\n",
       "      <th></th>\n",
       "      <th>urls</th>\n",
       "      <th>wanted</th>\n",
       "    </tr>\n",
       "  </thead>\n",
       "  <tbody>\n",
       "    <tr>\n",
       "      <th>0</th>\n",
       "      <td>https://github.com/Keerthana-2103</td>\n",
       "      <td>y</td>\n",
       "    </tr>\n",
       "    <tr>\n",
       "      <th>1</th>\n",
       "      <td>https://www.theverge.com/22769156/iphone-13-pro-vs-pixel-6-pro-camera-comparison-photos</td>\n",
       "      <td>y</td>\n",
       "    </tr>\n",
       "    <tr>\n",
       "      <th>2</th>\n",
       "      <td>https://www.vice.com/en/article/g5qbxj/the-iphone-13-screen-is-a-repair-nightmare-that-could-destroy-repair-shops-forever</td>\n",
       "      <td>y</td>\n",
       "    </tr>\n",
       "  </tbody>\n",
       "</table>\n",
       "</div>"
      ],
      "text/plain": [
       "                                                                                                                        urls  \\\n",
       "0                                                                                          https://github.com/Keerthana-2103   \n",
       "1                                    https://www.theverge.com/22769156/iphone-13-pro-vs-pixel-6-pro-camera-comparison-photos   \n",
       "2  https://www.vice.com/en/article/g5qbxj/the-iphone-13-screen-is-a-repair-nightmare-that-could-destroy-repair-shops-forever   \n",
       "\n",
       "  wanted  \n",
       "0      y  \n",
       "1      y  \n",
       "2      y  "
      ]
     },
     "execution_count": 20,
     "metadata": {},
     "output_type": "execute_result"
    }
   ],
   "source": [
    "yes_URL_df.head()"
   ]
  },
  {
   "cell_type": "code",
   "execution_count": 21,
   "metadata": {},
   "outputs": [],
   "source": [
    "articles_df = pd.concat([yes_URL_df, no_URL_df])\n",
    "articles_df.dropna(inplace = True)"
   ]
  },
  {
   "cell_type": "code",
   "execution_count": 22,
   "metadata": {},
   "outputs": [
    {
     "data": {
      "text/html": [
       "<div>\n",
       "<style scoped>\n",
       "    .dataframe tbody tr th:only-of-type {\n",
       "        vertical-align: middle;\n",
       "    }\n",
       "\n",
       "    .dataframe tbody tr th {\n",
       "        vertical-align: top;\n",
       "    }\n",
       "\n",
       "    .dataframe thead th {\n",
       "        text-align: right;\n",
       "    }\n",
       "</style>\n",
       "<table border=\"1\" class=\"dataframe\">\n",
       "  <thead>\n",
       "    <tr style=\"text-align: right;\">\n",
       "      <th></th>\n",
       "      <th>urls</th>\n",
       "      <th>wanted</th>\n",
       "    </tr>\n",
       "  </thead>\n",
       "  <tbody>\n",
       "    <tr>\n",
       "      <th>0</th>\n",
       "      <td>https://github.com/Keerthana-2103</td>\n",
       "      <td>y</td>\n",
       "    </tr>\n",
       "    <tr>\n",
       "      <th>1</th>\n",
       "      <td>https://www.theverge.com/22769156/iphone-13-pro-vs-pixel-6-pro-camera-comparison-photos</td>\n",
       "      <td>y</td>\n",
       "    </tr>\n",
       "    <tr>\n",
       "      <th>2</th>\n",
       "      <td>https://www.vice.com/en/article/g5qbxj/the-iphone-13-screen-is-a-repair-nightmare-that-could-destroy-repair-shops-forever</td>\n",
       "      <td>y</td>\n",
       "    </tr>\n",
       "    <tr>\n",
       "      <th>0</th>\n",
       "      <td>https://hub.packtpub.com/build-a-custom-news-feed-with-python-tutorial/</td>\n",
       "      <td>n</td>\n",
       "    </tr>\n",
       "    <tr>\n",
       "      <th>1</th>\n",
       "      <td>https://www.theverge.com/22769156/iphone-13-pro-vs-pixel-6-pro-camera-comparison-photos</td>\n",
       "      <td>n</td>\n",
       "    </tr>\n",
       "    <tr>\n",
       "      <th>2</th>\n",
       "      <td>https://www.cnet.com/personal-finance/crypto/cryptocurrency-faces-a-quantum-computing-problem/</td>\n",
       "      <td>n</td>\n",
       "    </tr>\n",
       "    <tr>\n",
       "      <th>3</th>\n",
       "      <td>https://www.statnews.com/2021/09/20/winter-is-coming-again-what-to-expect-from-covid-19-as-the-season-looms/</td>\n",
       "      <td>n</td>\n",
       "    </tr>\n",
       "    <tr>\n",
       "      <th>4</th>\n",
       "      <td>https://www.entrepreneur.com/article/394235</td>\n",
       "      <td>n</td>\n",
       "    </tr>\n",
       "    <tr>\n",
       "      <th>5</th>\n",
       "      <td>https://www.theguardian.com/commentisfree/2021/nov/17/harvard-university-students-smart-iq</td>\n",
       "      <td>n</td>\n",
       "    </tr>\n",
       "  </tbody>\n",
       "</table>\n",
       "</div>"
      ],
      "text/plain": [
       "                                                                                                                        urls  \\\n",
       "0                                                                                          https://github.com/Keerthana-2103   \n",
       "1                                    https://www.theverge.com/22769156/iphone-13-pro-vs-pixel-6-pro-camera-comparison-photos   \n",
       "2  https://www.vice.com/en/article/g5qbxj/the-iphone-13-screen-is-a-repair-nightmare-that-could-destroy-repair-shops-forever   \n",
       "0                                                    https://hub.packtpub.com/build-a-custom-news-feed-with-python-tutorial/   \n",
       "1                                    https://www.theverge.com/22769156/iphone-13-pro-vs-pixel-6-pro-camera-comparison-photos   \n",
       "2                             https://www.cnet.com/personal-finance/crypto/cryptocurrency-faces-a-quantum-computing-problem/   \n",
       "3               https://www.statnews.com/2021/09/20/winter-is-coming-again-what-to-expect-from-covid-19-as-the-season-looms/   \n",
       "4                                                                                https://www.entrepreneur.com/article/394235   \n",
       "5                                 https://www.theguardian.com/commentisfree/2021/nov/17/harvard-university-students-smart-iq   \n",
       "\n",
       "  wanted  \n",
       "0      y  \n",
       "1      y  \n",
       "2      y  \n",
       "0      n  \n",
       "1      n  \n",
       "2      n  \n",
       "3      n  \n",
       "4      n  \n",
       "5      n  "
      ]
     },
     "execution_count": 22,
     "metadata": {},
     "output_type": "execute_result"
    }
   ],
   "source": [
    "articles_df"
   ]
  },
  {
   "cell_type": "code",
   "execution_count": 23,
   "metadata": {},
   "outputs": [
    {
     "data": {
      "text/html": [
       "<div>\n",
       "<style scoped>\n",
       "    .dataframe tbody tr th:only-of-type {\n",
       "        vertical-align: middle;\n",
       "    }\n",
       "\n",
       "    .dataframe tbody tr th {\n",
       "        vertical-align: top;\n",
       "    }\n",
       "\n",
       "    .dataframe thead th {\n",
       "        text-align: right;\n",
       "    }\n",
       "</style>\n",
       "<table border=\"1\" class=\"dataframe\">\n",
       "  <thead>\n",
       "    <tr style=\"text-align: right;\">\n",
       "      <th></th>\n",
       "      <th>index</th>\n",
       "      <th>urls</th>\n",
       "      <th>wanted</th>\n",
       "    </tr>\n",
       "  </thead>\n",
       "  <tbody>\n",
       "    <tr>\n",
       "      <th>0</th>\n",
       "      <td>0</td>\n",
       "      <td>https://github.com/Keerthana-2103</td>\n",
       "      <td>y</td>\n",
       "    </tr>\n",
       "    <tr>\n",
       "      <th>1</th>\n",
       "      <td>1</td>\n",
       "      <td>https://www.theverge.com/22769156/iphone-13-pro-vs-pixel-6-pro-camera-comparison-photos</td>\n",
       "      <td>y</td>\n",
       "    </tr>\n",
       "    <tr>\n",
       "      <th>2</th>\n",
       "      <td>2</td>\n",
       "      <td>https://www.vice.com/en/article/g5qbxj/the-iphone-13-screen-is-a-repair-nightmare-that-could-destroy-repair-shops-forever</td>\n",
       "      <td>y</td>\n",
       "    </tr>\n",
       "    <tr>\n",
       "      <th>3</th>\n",
       "      <td>0</td>\n",
       "      <td>https://hub.packtpub.com/build-a-custom-news-feed-with-python-tutorial/</td>\n",
       "      <td>n</td>\n",
       "    </tr>\n",
       "    <tr>\n",
       "      <th>4</th>\n",
       "      <td>1</td>\n",
       "      <td>https://www.theverge.com/22769156/iphone-13-pro-vs-pixel-6-pro-camera-comparison-photos</td>\n",
       "      <td>n</td>\n",
       "    </tr>\n",
       "    <tr>\n",
       "      <th>5</th>\n",
       "      <td>2</td>\n",
       "      <td>https://www.cnet.com/personal-finance/crypto/cryptocurrency-faces-a-quantum-computing-problem/</td>\n",
       "      <td>n</td>\n",
       "    </tr>\n",
       "    <tr>\n",
       "      <th>6</th>\n",
       "      <td>3</td>\n",
       "      <td>https://www.statnews.com/2021/09/20/winter-is-coming-again-what-to-expect-from-covid-19-as-the-season-looms/</td>\n",
       "      <td>n</td>\n",
       "    </tr>\n",
       "    <tr>\n",
       "      <th>7</th>\n",
       "      <td>4</td>\n",
       "      <td>https://www.entrepreneur.com/article/394235</td>\n",
       "      <td>n</td>\n",
       "    </tr>\n",
       "    <tr>\n",
       "      <th>8</th>\n",
       "      <td>5</td>\n",
       "      <td>https://www.theguardian.com/commentisfree/2021/nov/17/harvard-university-students-smart-iq</td>\n",
       "      <td>n</td>\n",
       "    </tr>\n",
       "  </tbody>\n",
       "</table>\n",
       "</div>"
      ],
      "text/plain": [
       "   index  \\\n",
       "0      0   \n",
       "1      1   \n",
       "2      2   \n",
       "3      0   \n",
       "4      1   \n",
       "5      2   \n",
       "6      3   \n",
       "7      4   \n",
       "8      5   \n",
       "\n",
       "                                                                                                                        urls  \\\n",
       "0                                                                                          https://github.com/Keerthana-2103   \n",
       "1                                    https://www.theverge.com/22769156/iphone-13-pro-vs-pixel-6-pro-camera-comparison-photos   \n",
       "2  https://www.vice.com/en/article/g5qbxj/the-iphone-13-screen-is-a-repair-nightmare-that-could-destroy-repair-shops-forever   \n",
       "3                                                    https://hub.packtpub.com/build-a-custom-news-feed-with-python-tutorial/   \n",
       "4                                    https://www.theverge.com/22769156/iphone-13-pro-vs-pixel-6-pro-camera-comparison-photos   \n",
       "5                             https://www.cnet.com/personal-finance/crypto/cryptocurrency-faces-a-quantum-computing-problem/   \n",
       "6               https://www.statnews.com/2021/09/20/winter-is-coming-again-what-to-expect-from-covid-19-as-the-season-looms/   \n",
       "7                                                                                https://www.entrepreneur.com/article/394235   \n",
       "8                                 https://www.theguardian.com/commentisfree/2021/nov/17/harvard-university-students-smart-iq   \n",
       "\n",
       "  wanted  \n",
       "0      y  \n",
       "1      y  \n",
       "2      y  \n",
       "3      n  \n",
       "4      n  \n",
       "5      n  \n",
       "6      n  \n",
       "7      n  \n",
       "8      n  "
      ]
     },
     "execution_count": 23,
     "metadata": {},
     "output_type": "execute_result"
    }
   ],
   "source": [
    "articles_df_copy = articles_df.reset_index()\n",
    "articles_df_copy"
   ]
  },
  {
   "cell_type": "code",
   "execution_count": 24,
   "metadata": {},
   "outputs": [
    {
     "data": {
      "text/html": [
       "<div>\n",
       "<style scoped>\n",
       "    .dataframe tbody tr th:only-of-type {\n",
       "        vertical-align: middle;\n",
       "    }\n",
       "\n",
       "    .dataframe tbody tr th {\n",
       "        vertical-align: top;\n",
       "    }\n",
       "\n",
       "    .dataframe thead th {\n",
       "        text-align: right;\n",
       "    }\n",
       "</style>\n",
       "<table border=\"1\" class=\"dataframe\">\n",
       "  <thead>\n",
       "    <tr style=\"text-align: right;\">\n",
       "      <th></th>\n",
       "      <th>urls</th>\n",
       "      <th>wanted</th>\n",
       "    </tr>\n",
       "  </thead>\n",
       "  <tbody>\n",
       "    <tr>\n",
       "      <th>0</th>\n",
       "      <td>https://github.com/Keerthana-2103</td>\n",
       "      <td>y</td>\n",
       "    </tr>\n",
       "    <tr>\n",
       "      <th>1</th>\n",
       "      <td>https://www.theverge.com/22769156/iphone-13-pro-vs-pixel-6-pro-camera-comparison-photos</td>\n",
       "      <td>y</td>\n",
       "    </tr>\n",
       "    <tr>\n",
       "      <th>2</th>\n",
       "      <td>https://www.vice.com/en/article/g5qbxj/the-iphone-13-screen-is-a-repair-nightmare-that-could-destroy-repair-shops-forever</td>\n",
       "      <td>y</td>\n",
       "    </tr>\n",
       "    <tr>\n",
       "      <th>3</th>\n",
       "      <td>https://hub.packtpub.com/build-a-custom-news-feed-with-python-tutorial/</td>\n",
       "      <td>n</td>\n",
       "    </tr>\n",
       "    <tr>\n",
       "      <th>4</th>\n",
       "      <td>https://www.theverge.com/22769156/iphone-13-pro-vs-pixel-6-pro-camera-comparison-photos</td>\n",
       "      <td>n</td>\n",
       "    </tr>\n",
       "    <tr>\n",
       "      <th>5</th>\n",
       "      <td>https://www.cnet.com/personal-finance/crypto/cryptocurrency-faces-a-quantum-computing-problem/</td>\n",
       "      <td>n</td>\n",
       "    </tr>\n",
       "    <tr>\n",
       "      <th>6</th>\n",
       "      <td>https://www.statnews.com/2021/09/20/winter-is-coming-again-what-to-expect-from-covid-19-as-the-season-looms/</td>\n",
       "      <td>n</td>\n",
       "    </tr>\n",
       "    <tr>\n",
       "      <th>7</th>\n",
       "      <td>https://www.entrepreneur.com/article/394235</td>\n",
       "      <td>n</td>\n",
       "    </tr>\n",
       "    <tr>\n",
       "      <th>8</th>\n",
       "      <td>https://www.theguardian.com/commentisfree/2021/nov/17/harvard-university-students-smart-iq</td>\n",
       "      <td>n</td>\n",
       "    </tr>\n",
       "  </tbody>\n",
       "</table>\n",
       "</div>"
      ],
      "text/plain": [
       "                                                                                                                        urls  \\\n",
       "0                                                                                          https://github.com/Keerthana-2103   \n",
       "1                                    https://www.theverge.com/22769156/iphone-13-pro-vs-pixel-6-pro-camera-comparison-photos   \n",
       "2  https://www.vice.com/en/article/g5qbxj/the-iphone-13-screen-is-a-repair-nightmare-that-could-destroy-repair-shops-forever   \n",
       "3                                                    https://hub.packtpub.com/build-a-custom-news-feed-with-python-tutorial/   \n",
       "4                                    https://www.theverge.com/22769156/iphone-13-pro-vs-pixel-6-pro-camera-comparison-photos   \n",
       "5                             https://www.cnet.com/personal-finance/crypto/cryptocurrency-faces-a-quantum-computing-problem/   \n",
       "6               https://www.statnews.com/2021/09/20/winter-is-coming-again-what-to-expect-from-covid-19-as-the-season-looms/   \n",
       "7                                                                                https://www.entrepreneur.com/article/394235   \n",
       "8                                 https://www.theguardian.com/commentisfree/2021/nov/17/harvard-university-students-smart-iq   \n",
       "\n",
       "  wanted  \n",
       "0      y  \n",
       "1      y  \n",
       "2      y  \n",
       "3      n  \n",
       "4      n  \n",
       "5      n  \n",
       "6      n  \n",
       "7      n  \n",
       "8      n  "
      ]
     },
     "execution_count": 24,
     "metadata": {},
     "output_type": "execute_result"
    }
   ],
   "source": [
    "articles_df = articles_df_copy.drop(['index'], axis = 1)\n",
    "articles_df"
   ]
  },
  {
   "cell_type": "code",
   "execution_count": null,
   "metadata": {},
   "outputs": [],
   "source": []
  }
 ],
 "metadata": {
  "kernelspec": {
   "display_name": "Python 3",
   "language": "python",
   "name": "python3"
  },
  "language_info": {
   "codemirror_mode": {
    "name": "ipython",
    "version": 3
   },
   "file_extension": ".py",
   "mimetype": "text/x-python",
   "name": "python",
   "nbconvert_exporter": "python",
   "pygments_lexer": "ipython3",
   "version": "3.8.5"
  }
 },
 "nbformat": 4,
 "nbformat_minor": 5
}
